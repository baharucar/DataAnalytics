{
 "cells": [
  {
   "cell_type": "markdown",
   "id": "3ae1b8ee",
   "metadata": {},
   "source": [
    "Tebrikler! Eğer **Veri Bilimi İçin Python Programlama bölümünü** başarıyla tamamladıysanız, bu egzersizleri çözmeye artık hazırız!\n",
    "\n",
    "> O zaman hazırsanız hadi başlayalım!"
   ]
  },
  {
   "cell_type": "markdown",
   "id": "5c25d4a8",
   "metadata": {},
   "source": [
    "## Görev 1:\n",
    "\n",
    "İsimleri **Alex, Marcus, Linda, Jennifer, Lisa**, yaşları **25, 34, 31, 48, 17** olacak şekilde 2 farklı liste tanımlayın."
   ]
  },
  {
   "cell_type": "code",
   "execution_count": 4,
   "id": "e3dafaac",
   "metadata": {},
   "outputs": [
    {
     "name": "stdout",
     "output_type": "stream",
     "text": [
      "[('Alex', 25), ('Marcus', 34)]\n",
      "[('Linda', 31), ('Jennifer', 48), ('Lisa', 17)]\n"
     ]
    }
   ],
   "source": [
    "liste1 = [(\"Alex\", 25), (\"Marcus\", 34)]\n",
    "liste2 = [(\"Linda\", 31), (\"Jennifer\", 48), (\"Lisa\", 17)]\n",
    "print(liste1)\n",
    "print(liste2)"
   ]
  },
  {
   "cell_type": "markdown",
   "id": "70131f3e",
   "metadata": {},
   "source": [
    "## Görev 2:\n",
    "\n",
    "Oluşturmuş olduğunuz bu listeleri kullanarak, listelerinizdeki verileri bir sözlük yapısında olacak şekilde tek bir **customers** değişkeni içerisinde toplayın ve ardından **customers** değişkenini ekrana yazdırın.\n",
    "\n",
    ">**İPUCU:** Boş bir customers sözlüğü oluşturup döngüler yardımıyla içine doldurmaya çalışın!"
   ]
  },
  {
   "cell_type": "code",
   "execution_count": 5,
   "id": "9fb47f04",
   "metadata": {},
   "outputs": [
    {
     "data": {
      "text/plain": [
       "{'Alex': 25, 'Marcus': 34, 'Linda': 31, 'Jennifer': 48, 'Lisa': 17}"
      ]
     },
     "execution_count": 5,
     "metadata": {},
     "output_type": "execute_result"
    }
   ],
   "source": [
    "customers = {}\n",
    "for isim, yas in liste1:\n",
    "    customers[isim] = yas\n",
    "\n",
    "for isim, yas in liste2:\n",
    "    customers[isim] = yas\n",
    "customers"
   ]
  },
  {
   "cell_type": "markdown",
   "id": "d4fa4e7b",
   "metadata": {},
   "source": [
    "## Görev 3:\n",
    "\n",
    "Şimdi de oluşturduğumuz değişkenimizdeki kişileri **yaşlarına göre büyükten küçüğe sıralı olacak şekilde** sözlüğümüzü güncelleyelim.\n",
    "\n",
    ">**İPUCU:** `sorted()` ve `.sort()` fonksiyonlarını hatırladınız mı?"
   ]
  },
  {
   "cell_type": "code",
   "execution_count": 18,
   "id": "87b80408",
   "metadata": {},
   "outputs": [
    {
     "name": "stdout",
     "output_type": "stream",
     "text": [
      "{'Jennifer': 48, 'Marcus': 34, 'Linda': 31, 'Alex': 25, 'Lisa': 17}\n"
     ]
    }
   ],
   "source": [
    "sorted_customers = dict(sorted(customers.items(), key=lambda x: x[1], reverse=True))\n",
    "print(sorted_customers)"
   ]
  },
  {
   "cell_type": "markdown",
   "id": "810b2f2a",
   "metadata": {},
   "source": [
    "## Görev 4:\n",
    "\n",
    "Son olarak da buraya kadar yapmış olduğumuz tüm işlemleri, karşı taraftan 2 tane liste girdisi alacak bir fonksiyon haline dönüştürelim. Ayrıca kullanıcın liste dışında bir formatta veri girişi yapması halinde de ekrana bir hata mesajı basın.\n",
    "\n",
    ">**NOT:** Fonksiyon ve değişken isimlerini mantıklı tanımlamayı ve fonksiyonunuzun kolaylıkla kullanılabilmesi için **Docstring** eklemeyi unutmayın!"
   ]
  },
  {
   "cell_type": "code",
   "execution_count": 27,
   "id": "5b19e389",
   "metadata": {},
   "outputs": [
    {
     "name": "stdout",
     "output_type": "stream",
     "text": [
      "{'Jennifer': 48, 'Marcus': 34, 'Linda': 31, 'Alex': 25, 'Lisa': 17}\n",
      "{'Jennifer': 48, 'Marcus': 34, 'Linda': 31, 'Alex': 25, 'Lisa': 17}\n",
      "{'Jennifer': 48, 'Marcus': 34, 'Linda': 31, 'Alex': 25, 'Lisa': 17}\n",
      "{'Jennifer': 48, 'Marcus': 34, 'Linda': 31, 'Alex': 25, 'Lisa': 17}\n",
      "{'Jennifer': 48, 'Marcus': 34, 'Linda': 31, 'Alex': 25, 'Lisa': 17}\n"
     ]
    }
   ],
   "source": [
    "for item in liste1 + liste2:\n",
    "        if not isinstance(item, tuple) or len(item) != 2 or not isinstance(item[0], str) or not isinstance(item[1], int):\n",
    "            print(\"Hata: Geçersiz veri formatı.\")\n",
    "        else: \n",
    "             print(sorted_customers)"
   ]
  },
  {
   "cell_type": "code",
   "execution_count": null,
   "id": "cfa0e79e",
   "metadata": {},
   "outputs": [],
   "source": []
  }
 ],
 "metadata": {
  "kernelspec": {
   "display_name": "Python 3 (ipykernel)",
   "language": "python",
   "name": "python3"
  },
  "language_info": {
   "codemirror_mode": {
    "name": "ipython",
    "version": 3
   },
   "file_extension": ".py",
   "mimetype": "text/x-python",
   "name": "python",
   "nbconvert_exporter": "python",
   "pygments_lexer": "ipython3",
   "version": "3.9.13"
  }
 },
 "nbformat": 4,
 "nbformat_minor": 5
}
